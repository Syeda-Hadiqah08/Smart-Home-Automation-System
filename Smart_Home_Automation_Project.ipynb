{
  "nbformat": 4,
  "nbformat_minor": 0,
  "metadata": {
    "colab": {
      "provenance": []
    },
    "kernelspec": {
      "name": "python3",
      "display_name": "Python 3"
    },
    "language_info": {
      "name": "python"
    }
  },
  "cells": [
    {
      "cell_type": "markdown",
      "source": [
        "# **1. Device Management (Lists & Tuples)**\n",
        "\n",
        "### **Task 1.1: Create and Manage a List of Smart Devices:**"
      ],
      "metadata": {
        "id": "IC3etXSa6mP8"
      }
    },
    {
      "cell_type": "code",
      "execution_count": 1,
      "metadata": {
        "colab": {
          "base_uri": "https://localhost:8080/"
        },
        "id": "F9HZL8996kcO",
        "outputId": "accb0b44-8fec-448f-bdf3-708f40ea42a8"
      },
      "outputs": [
        {
          "output_type": "stream",
          "name": "stdout",
          "text": [
            "Initial Smart Devices: ['Lights', 'Fan', 'AC', 'Door Lock', 'Thermostat']\n"
          ]
        }
      ],
      "source": [
        "# List of Initial Smart Devices:\n",
        "\n",
        "devices = ['Lights', 'Fan', 'AC', 'Door Lock', 'Thermostat']\n",
        "print(\"Initial Smart Devices:\", devices)"
      ]
    },
    {
      "cell_type": "code",
      "source": [
        "# Add a new smart device:\n",
        "\n",
        "new_device = input(\"Enter a Device Name to add: \")\n",
        "\n",
        "if new_device in devices:\n",
        "    print(f\"{new_device} already exists.\")\n",
        "else:\n",
        "    devices.append(new_device)\n",
        "    print(\"\\nNew Smart Device added:\", new_device)"
      ],
      "metadata": {
        "colab": {
          "base_uri": "https://localhost:8080/"
        },
        "id": "jUNXFZZX6tKT",
        "outputId": "effc0ee7-8903-42d9-8412-e3a14341e9a5"
      },
      "execution_count": 2,
      "outputs": [
        {
          "output_type": "stream",
          "name": "stdout",
          "text": [
            "Enter a Device Name to add: CCTV Camera\n",
            "\n",
            "New Smart Device added: CCTV Camera\n"
          ]
        }
      ]
    },
    {
      "cell_type": "code",
      "source": [
        "# Remove a Device:\n",
        "\n",
        "remove_device = input(\"Enter a device name to remove: \")\n",
        "\n",
        "if remove_device in devices:\n",
        "    devices.remove(remove_device)\n",
        "    print(remove_device, \"removed.\")\n",
        "else:\n",
        "    print(\"Device not found.\")"
      ],
      "metadata": {
        "colab": {
          "base_uri": "https://localhost:8080/"
        },
        "id": "J7t9JnSR7X5P",
        "outputId": "40b0bd17-fc1d-4d26-9a9e-cffdd0c426ea"
      },
      "execution_count": 3,
      "outputs": [
        {
          "output_type": "stream",
          "name": "stdout",
          "text": [
            "Enter a device name to remove: Thermostat\n",
            "Thermostat removed.\n"
          ]
        }
      ]
    },
    {
      "cell_type": "code",
      "source": [
        "# Sort Devices alphabetically:\n",
        "\n",
        "devices.sort()\n",
        "print(\"Sorted Devices:\", devices)"
      ],
      "metadata": {
        "colab": {
          "base_uri": "https://localhost:8080/"
        },
        "id": "e7jrwhtE7oSH",
        "outputId": "1792f0fe-6017-41d4-9a40-fb8e5426c0be"
      },
      "execution_count": 4,
      "outputs": [
        {
          "output_type": "stream",
          "name": "stdout",
          "text": [
            "Sorted Devices: ['AC', 'CCTV Camera', 'Door Lock', 'Fan', 'Lights']\n"
          ]
        }
      ]
    },
    {
      "cell_type": "markdown",
      "source": [
        "### **Task 1.2: Store Device Settings Using Tuples:**"
      ],
      "metadata": {
        "id": "xUbg6mCI74eB"
      }
    },
    {
      "cell_type": "code",
      "source": [
        "# A Tuple for each Smart Device:\n",
        "device1 = ('Lights', 'ON', 60)\n",
        "device2 = ('Fan', 'OFF', 0)\n",
        "device3 = ('AC', 'ON', 1500)\n",
        "device4 = ('Door Lock', 'OFF', 0)\n",
        "device5 = ('Thermostat', 'ON', 200)\n",
        "\n",
        "# List of all Device Settings:\n",
        "device_settings = [device1, device2, device3, device4, device5]\n",
        "\n",
        "# Display all Device Settings:\n",
        "for d in device_settings:\n",
        "    print(f\"{d[0]}: {d}\")"
      ],
      "metadata": {
        "colab": {
          "base_uri": "https://localhost:8080/"
        },
        "id": "BAoXG_7171hJ",
        "outputId": "6903f086-475a-4247-8644-17e7a3af3eca"
      },
      "execution_count": 6,
      "outputs": [
        {
          "output_type": "stream",
          "name": "stdout",
          "text": [
            "Lights: ('Lights', 'ON', 60)\n",
            "Fan: ('Fan', 'OFF', 0)\n",
            "AC: ('AC', 'ON', 1500)\n",
            "Door Lock: ('Door Lock', 'OFF', 0)\n",
            "Thermostat: ('Thermostat', 'ON', 200)\n"
          ]
        }
      ]
    },
    {
      "cell_type": "markdown",
      "source": [
        "# **2. Energy Consumption Tracker (Dictionaries & Sets)**\n",
        "\n",
        "### **Task 2.1: Store Device Energy Usage in a Dictionary:**"
      ],
      "metadata": {
        "id": "zw33PnH08LHU"
      }
    },
    {
      "cell_type": "code",
      "source": [
        "# Create a Dictionary for Energy Usage:\n",
        "\n",
        "energy_usage = {'Lights': 5, 'AC': 120, 'Fan': 30}\n",
        "print(\"Initial Energy Usage:\", energy_usage)"
      ],
      "metadata": {
        "colab": {
          "base_uri": "https://localhost:8080/"
        },
        "id": "q-7mNdFd8GFF",
        "outputId": "9399d522-7f14-42ad-8c2a-7692e4cab556"
      },
      "execution_count": 7,
      "outputs": [
        {
          "output_type": "stream",
          "name": "stdout",
          "text": [
            "Initial Energy Usage: {'Lights': 5, 'AC': 120, 'Fan': 30}\n"
          ]
        }
      ]
    },
    {
      "cell_type": "code",
      "source": [
        "# Add new usage data:\n",
        "\n",
        "new_data = input(\"Enter Device name to add: \")\n",
        "\n",
        "if new_data in energy_usage:\n",
        "    print(new_data, \"already exists.\")\n",
        "else:\n",
        "    usage = int(input(\"Enter the energy usage of the Device (in kWh): \"))\n",
        "    energy_usage[new_data] = usage\n",
        "    print(new_data, \"added.\")"
      ],
      "metadata": {
        "colab": {
          "base_uri": "https://localhost:8080/"
        },
        "id": "gTRipc168R_i",
        "outputId": "53488652-720d-4bbc-bbfe-5fb05d45dc14"
      },
      "execution_count": 8,
      "outputs": [
        {
          "output_type": "stream",
          "name": "stdout",
          "text": [
            "Enter Device name to add: Cooler\n",
            "Enter the energy usage of the Device (in kWh): 200\n",
            "Cooler added.\n"
          ]
        }
      ]
    },
    {
      "cell_type": "code",
      "source": [
        "# Update Existing Usage Data:\n",
        "\n",
        "existing_device = input(\"Enter name of device to update: \")\n",
        "\n",
        "if existing_device in energy_usage:\n",
        "    update_usage = int(input(\"Enter the updated Energy Usage: \"))\n",
        "    energy_usage[existing_device] = update_usage\n",
        "    print(existing_device, \"updated\")\n",
        "else:\n",
        "    print(\"Device not found.\")"
      ],
      "metadata": {
        "colab": {
          "base_uri": "https://localhost:8080/"
        },
        "id": "jql2vXp48ew6",
        "outputId": "04244a00-c2e9-43c4-869a-7bb15f620b3f"
      },
      "execution_count": 9,
      "outputs": [
        {
          "output_type": "stream",
          "name": "stdout",
          "text": [
            "Enter name of device to update: AC\n",
            "Enter the updated Energy Usage: 1200\n",
            "AC updated\n"
          ]
        }
      ]
    },
    {
      "cell_type": "code",
      "source": [
        "# Remove a Device's Energy Usage:\n",
        "\n",
        "remove_usage = input(\"Enter a Device name to remove its usage: \")\n",
        "\n",
        "if remove_usage in energy_usage:\n",
        "    del energy_usage[remove_usage]\n",
        "    print(f\"{remove_usage} removed.\")\n",
        "else:\n",
        "    print(\"Device not found.\")"
      ],
      "metadata": {
        "colab": {
          "base_uri": "https://localhost:8080/"
        },
        "id": "SmxWNHWd8o1Z",
        "outputId": "9bae05e1-43d6-4cb1-ae42-36567bf6b1fa"
      },
      "execution_count": 10,
      "outputs": [
        {
          "output_type": "stream",
          "name": "stdout",
          "text": [
            "Enter a Device name to remove its usage: Cooler\n",
            "Cooler removed.\n"
          ]
        }
      ]
    },
    {
      "cell_type": "code",
      "source": [
        "# Display Total Energy Consumption:\n",
        "\n",
        "total_consumption = sum(energy_usage.values())\n",
        "print(f\"Total Energy Consumption of Smart Devices: {total_consumption}KWh\")"
      ],
      "metadata": {
        "colab": {
          "base_uri": "https://localhost:8080/"
        },
        "id": "tJWHpOTd8y4T",
        "outputId": "0d003dca-568d-4d11-c510-a7af0dbc59ce"
      },
      "execution_count": 11,
      "outputs": [
        {
          "output_type": "stream",
          "name": "stdout",
          "text": [
            "Total Energy Consumption of Smart Devices: 1235KWh\n"
          ]
        }
      ]
    },
    {
      "cell_type": "markdown",
      "source": [
        "### **Task 2.2: Identify Unique Power-Saving Modes Using Sets:**"
      ],
      "metadata": {
        "id": "j3INguF-9Bln"
      }
    },
    {
      "cell_type": "code",
      "source": [
        "# Set of Unique Power Saving Modes:\n",
        "\n",
        "modes = {'Eco Mode', 'Night Mode'}\n",
        "print(\"Unique Power-Saving Modes:\", modes)"
      ],
      "metadata": {
        "colab": {
          "base_uri": "https://localhost:8080/"
        },
        "id": "kGrwGTn987Ms",
        "outputId": "0f3d7653-cedf-437c-9dd7-6a076551d755"
      },
      "execution_count": 12,
      "outputs": [
        {
          "output_type": "stream",
          "name": "stdout",
          "text": [
            "Unique Power-Saving Modes: {'Night Mode', 'Eco Mode'}\n"
          ]
        }
      ]
    },
    {
      "cell_type": "code",
      "source": [
        "# Add New Mode:\n",
        "\n",
        "new_mode = input(\"Enter new Power-Saving Mode to add: \")\n",
        "\n",
        "if new_mode in modes:\n",
        "    print(new_mode, \"already exists.\")\n",
        "else:\n",
        "    modes.add(new_mode)\n",
        "    print(\"New mode added:\", new_mode)"
      ],
      "metadata": {
        "colab": {
          "base_uri": "https://localhost:8080/"
        },
        "id": "k-5N8W8v9GCA",
        "outputId": "6413bce7-9ecb-4e16-a153-82c948985147"
      },
      "execution_count": 13,
      "outputs": [
        {
          "output_type": "stream",
          "name": "stdout",
          "text": [
            "Enter new Power-Saving Mode to add: Away Mode\n",
            "New mode added: Away Mode\n"
          ]
        }
      ]
    },
    {
      "cell_type": "code",
      "source": [
        "# Check if a Mode is available:\n",
        "\n",
        "mode_to_check = input(\"Enter a Mode to check: \")\n",
        "\n",
        "if mode_to_check in modes:\n",
        "    print(f\"{mode_to_check} availale.\")\n",
        "else:\n",
        "    print(f\"{mode_to_check} not found.\")"
      ],
      "metadata": {
        "colab": {
          "base_uri": "https://localhost:8080/"
        },
        "id": "5n0itvLv9OYV",
        "outputId": "217e3439-9fe4-4ef3-c87b-4f1adc6ea122"
      },
      "execution_count": 14,
      "outputs": [
        {
          "output_type": "stream",
          "name": "stdout",
          "text": [
            "Enter a Mode to check: Night Mode\n",
            "Night Mode availale.\n"
          ]
        }
      ]
    },
    {
      "cell_type": "code",
      "source": [
        "# View all Power-Saving Modes:\n",
        "\n",
        "print(\"All Unique Power-Saving Modes:\", modes)"
      ],
      "metadata": {
        "colab": {
          "base_uri": "https://localhost:8080/"
        },
        "id": "U31JMD7O9UxD",
        "outputId": "7a63f235-00b7-4d40-f850-10563147e85f"
      },
      "execution_count": 15,
      "outputs": [
        {
          "output_type": "stream",
          "name": "stdout",
          "text": [
            "All Unique Power-Saving Modes: {'Night Mode', 'Away Mode', 'Eco Mode'}\n"
          ]
        }
      ]
    },
    {
      "cell_type": "markdown",
      "source": [
        "# **3. Smart Home Automation**\n",
        "\n",
        "### **3.1: Calculate Monthly Energy Cost:**"
      ],
      "metadata": {
        "id": "02pVQ8MO9eRf"
      }
    },
    {
      "cell_type": "code",
      "source": [
        "# Take Input from User:\n",
        "energy_usage_kwh = float(input(\"Enter Total Energy Usage (in KWh): \"))\n",
        "rate_per_kwh = float(input(\"Enter the Electricity Rate per KWh (in $): \"))\n",
        "\n",
        "# Calculate Monthly Cost:\n",
        "monthly_energy_cost = energy_usage_kwh * rate_per_kwh\n",
        "print(f\"Total Monthly Energy Cost: ${monthly_energy_cost:.2f}\")"
      ],
      "metadata": {
        "colab": {
          "base_uri": "https://localhost:8080/"
        },
        "id": "AGB9DRSI9Zvv",
        "outputId": "ef302a91-31f9-4456-b13f-e5fe04c71a96"
      },
      "execution_count": 16,
      "outputs": [
        {
          "output_type": "stream",
          "name": "stdout",
          "text": [
            "Enter Total Energy Usage (in KWh): 1235\n",
            "Enter the Electricity Rate per KWh (in $): 0.5\n",
            "Total Monthly Energy Cost: $617.50\n"
          ]
        }
      ]
    },
    {
      "cell_type": "markdown",
      "source": [
        "### **Task 3.2: Find Common Devices in Two Homes:**"
      ],
      "metadata": {
        "id": "YQFkcxN7-WyY"
      }
    },
    {
      "cell_type": "code",
      "source": [
        "# List of Devices for Two Homes:\n",
        "home1_devices = ['Lights', 'AC', 'Fan']\n",
        "home2_devices = ['Fan', 'Lights', 'Door Lock', 'CCTV Camera']\n",
        "\n",
        "# Find Common Devices:\n",
        "common_devices = set(home1_devices) & set(home2_devices)\n",
        "print(\"Common Devices in Two Homes:\", common_devices)"
      ],
      "metadata": {
        "colab": {
          "base_uri": "https://localhost:8080/"
        },
        "id": "vncfJNww-L1u",
        "outputId": "780d6a45-e303-415f-f7e5-a3669ba4645e"
      },
      "execution_count": 17,
      "outputs": [
        {
          "output_type": "stream",
          "name": "stdout",
          "text": [
            "Common Devices in Two Homes: {'Lights', 'Fan'}\n"
          ]
        }
      ]
    },
    {
      "cell_type": "markdown",
      "source": [
        "# **4. Automation Features**\n",
        "\n",
        "### **Task 4.1: Create an Automation Rule:**"
      ],
      "metadata": {
        "id": "3pRoJyYQ-juO"
      }
    },
    {
      "cell_type": "code",
      "source": [
        "# Take Inputs from User:\n",
        "device = input(\"Enter Device Name: \")\n",
        "time = input(\"Enter Time (e.g. 11:00 PM): \")\n",
        "action = input(\"Enter an Action (ON/OFF): \").upper()\n",
        "\n",
        "# Automation Rule:\n",
        "print(f\"Automation Rule: {device} will be turned {action} at {time}.\")"
      ],
      "metadata": {
        "colab": {
          "base_uri": "https://localhost:8080/"
        },
        "id": "-7NHUNke-gU1",
        "outputId": "0f53aa58-6280-4733-dd0c-8f7916ec3766"
      },
      "execution_count": 18,
      "outputs": [
        {
          "output_type": "stream",
          "name": "stdout",
          "text": [
            "Enter Device Name: Lights\n",
            "Enter Time (e.g. 11:00 PM): 12:00 AM\n",
            "Enter an Action (ON/OFF): OFF\n",
            "Automation Rule: Lights will be turned OFF at 12:00 AM.\n"
          ]
        }
      ]
    },
    {
      "cell_type": "markdown",
      "source": [
        "### **Task 4.2: Optimize Power Consumption:**"
      ],
      "metadata": {
        "id": "u_Tgkwux-2V9"
      }
    },
    {
      "cell_type": "code",
      "source": [
        "# Take Input of Number of Devices:\n",
        "device_list = []\n",
        "count = int(input(\"Enter  the number of Devices you want to add: \\n\"))\n",
        "\n",
        "# Loop the User Input:\n",
        "for i in range(count):\n",
        "    name = input(\"Enter device name: \")\n",
        "    power = int(input(f\"Enter power consumption of {name} in Watts: \"))\n",
        "    device_list.append((name, power))\n",
        "\n",
        "# Add Active Devices to a new list:\n",
        "optimized_devices = []\n",
        "for name, power in device_list:\n",
        "    if power <= 1000:\n",
        "        optimized_devices.append((name, power))\n",
        "\n",
        "print(\"\\nActive Devices after Optimization:\", optimized_devices)"
      ],
      "metadata": {
        "colab": {
          "base_uri": "https://localhost:8080/"
        },
        "id": "HTgm4aku-upF",
        "outputId": "76bb89c9-8802-4131-efe9-87da01a455ee"
      },
      "execution_count": 19,
      "outputs": [
        {
          "output_type": "stream",
          "name": "stdout",
          "text": [
            "Enter  the number of Devices you want to add: \n",
            "4\n",
            "Enter device name: Lights\n",
            "Enter power consumption of Lights in Watts: 50\n",
            "Enter device name: Fans\n",
            "Enter power consumption of Fans in Watts: 150\n",
            "Enter device name: AC\n",
            "Enter power consumption of AC in Watts: 1300\n",
            "Enter device name: Dryer\n",
            "Enter power consumption of Dryer in Watts: 800\n",
            "\n",
            "Active Devices after Optimization: [('Lights', 50), ('Fans', 150), ('Dryer', 800)]\n"
          ]
        }
      ]
    }
  ]
}