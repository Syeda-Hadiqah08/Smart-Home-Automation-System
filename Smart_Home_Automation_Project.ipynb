{
  "nbformat": 4,
  "nbformat_minor": 0,
  "metadata": {
    "colab": {
      "provenance": [],
      "authorship_tag": "ABX9TyNvA4qY5KdZOhctDla9Y+CH",
      "include_colab_link": true
    },
    "kernelspec": {
      "name": "python3",
      "display_name": "Python 3"
    },
    "language_info": {
      "name": "python"
    }
  },
  "cells": [
    {
      "cell_type": "markdown",
      "metadata": {
        "id": "view-in-github",
        "colab_type": "text"
      },
      "source": [
        "<a href=\"https://colab.research.google.com/github/Syeda-Hadiqah08/Smart-Home-Automation-System/blob/main/Smart_Home_Automation_Project.ipynb\" target=\"_parent\"><img src=\"https://colab.research.google.com/assets/colab-badge.svg\" alt=\"Open In Colab\"/></a>"
      ]
    },
    {
      "cell_type": "markdown",
      "source": [
        "# **1. Device Management (Lists & Tuples)**\n",
        "\n",
        "### **Task 1.1: Create and Manage a List of Smart Devices:**"
      ],
      "metadata": {
        "id": "IC3etXSa6mP8"
      }
    },
    {
      "cell_type": "code",
      "execution_count": 1,
      "metadata": {
        "colab": {
          "base_uri": "https://localhost:8080/"
        },
        "id": "F9HZL8996kcO",
        "outputId": "17c1d03a-95ac-461f-87cf-6c8282b7627b"
      },
      "outputs": [
        {
          "output_type": "stream",
          "name": "stdout",
          "text": [
            "Initial Smart Devices: ['Lights', 'Fan', 'AC', 'Door Lock', 'Thermostat']\n"
          ]
        }
      ],
      "source": [
        "# List of Initial Smart Devices:\n",
        "\n",
        "devices = ['Lights', 'Fan', 'AC', 'Door Lock', 'Thermostat']\n",
        "print(\"Initial Smart Devices:\", devices)"
      ]
    },
    {
      "cell_type": "code",
      "source": [
        "# Add a new smart device:\n",
        "\n",
        "new_device = input(\"Enter a Device Name to add: \")\n",
        "\n",
        "if new_device in devices:\n",
        "    print(f\"{new_device} already exists.\")\n",
        "else:\n",
        "    devices.append(new_device)\n",
        "    print(\"\\nNew Smart Device added:\", new_device)"
      ],
      "metadata": {
        "colab": {
          "base_uri": "https://localhost:8080/"
        },
        "id": "jUNXFZZX6tKT",
        "outputId": "00cc7cd0-69b6-45e7-8f60-7bab71634607"
      },
      "execution_count": 2,
      "outputs": [
        {
          "output_type": "stream",
          "name": "stdout",
          "text": [
            "Enter a Device Name to add: CCTV Camera\n",
            "\n",
            "New Smart Device added: CCTV Camera\n"
          ]
        }
      ]
    },
    {
      "cell_type": "code",
      "source": [
        "# Remove a Device:\n",
        "\n",
        "remove_device = input(\"Enter a device name to remove: \")\n",
        "\n",
        "if remove_device in devices:\n",
        "    devices.remove(remove_device)\n",
        "    print(remove_device, \"removed.\")\n",
        "else:\n",
        "    print(\"Device not found.\")"
      ],
      "metadata": {
        "colab": {
          "base_uri": "https://localhost:8080/"
        },
        "id": "J7t9JnSR7X5P",
        "outputId": "66b2a2c7-72cb-462b-b831-747eb52f13d1"
      },
      "execution_count": 3,
      "outputs": [
        {
          "output_type": "stream",
          "name": "stdout",
          "text": [
            "Enter a device name to remove: Thermostat\n",
            "Thermostat removed.\n"
          ]
        }
      ]
    },
    {
      "cell_type": "code",
      "source": [
        "# Sort Devices alphabetically:\n",
        "\n",
        "devices.sort()\n",
        "print(\"Sorted Devices:\", devices)"
      ],
      "metadata": {
        "colab": {
          "base_uri": "https://localhost:8080/"
        },
        "id": "e7jrwhtE7oSH",
        "outputId": "e1ea833e-1ac6-4976-9903-f551aaa3cbcc"
      },
      "execution_count": 4,
      "outputs": [
        {
          "output_type": "stream",
          "name": "stdout",
          "text": [
            "Sorted Devices: ['AC', 'CCTV Camera', 'Door Lock', 'Fan', 'Lights']\n"
          ]
        }
      ]
    },
    {
      "cell_type": "markdown",
      "source": [
        "### **Task 1.2: Store Device Settings Using Tuples:**"
      ],
      "metadata": {
        "id": "xUbg6mCI74eB"
      }
    },
    {
      "cell_type": "code",
      "source": [
        "# A Tuple for each Smart Device:\n",
        "device1 = ('Lights', 'ON', 60)\n",
        "device2 = ('Fan', 'OFF', 0)\n",
        "device3 = ('AC', 'ON', 1500)\n",
        "device4 = ('Door Lock', 'OFF', 0)\n",
        "device5 = ('Thermostat', 'ON', 200)\n",
        "\n",
        "# List of all Device Settings:\n",
        "device_settings = [device1, device2, device3, device4, device5]\n",
        "\n",
        "# Display all Device Settings:\n",
        "for d in device_settings:\n",
        "    print(f\"{d[0]}: {d}\")"
      ],
      "metadata": {
        "colab": {
          "base_uri": "https://localhost:8080/"
        },
        "id": "BAoXG_7171hJ",
        "outputId": "0b93a58a-91ef-40d4-cfde-f7942b45cde8"
      },
      "execution_count": 5,
      "outputs": [
        {
          "output_type": "stream",
          "name": "stdout",
          "text": [
            "Lights: ('Lights', 'ON', 60)\n",
            "Fan: ('Fan', 'OFF', 0)\n",
            "AC: ('AC', 'ON', 1500)\n",
            "Door Lock: ('Door Lock', 'OFF', 0)\n",
            "Thermostat: ('Thermostat', 'ON', 200)\n"
          ]
        }
      ]
    },
    {
      "cell_type": "markdown",
      "source": [
        "# **2. Energy Consumption Tracker (Dictionaries & Sets)**\n",
        "\n",
        "### **Task 2.1: Store Device Energy Usage in a Dictionary:**"
      ],
      "metadata": {
        "id": "zw33PnH08LHU"
      }
    },
    {
      "cell_type": "code",
      "source": [
        "# Create a Dictionary for Energy Usage:\n",
        "\n",
        "energy_usage = {'Lights': 5, 'AC': 120, 'Fan': 30}\n",
        "print(\"Initial Energy Usage:\", energy_usage)"
      ],
      "metadata": {
        "colab": {
          "base_uri": "https://localhost:8080/"
        },
        "id": "q-7mNdFd8GFF",
        "outputId": "98341037-b287-4021-e19c-64c394c09cbd"
      },
      "execution_count": 6,
      "outputs": [
        {
          "output_type": "stream",
          "name": "stdout",
          "text": [
            "Initial Energy Usage: {'Lights': 5, 'AC': 120, 'Fan': 30}\n"
          ]
        }
      ]
    },
    {
      "cell_type": "code",
      "source": [
        "# Add new usage data:\n",
        "\n",
        "new_data = input(\"Enter Device name to add: \")\n",
        "\n",
        "if new_data in energy_usage:\n",
        "    print(new_data, \"already exists.\")\n",
        "else:\n",
        "    usage = int(input(\"Enter the energy usage of the Device (in kWh): \"))\n",
        "    energy_usage[new_data] = usage\n",
        "    print(new_data, \"added.\")"
      ],
      "metadata": {
        "colab": {
          "base_uri": "https://localhost:8080/"
        },
        "id": "gTRipc168R_i",
        "outputId": "24af80b0-6365-4c19-87f0-bcefe2da18d4"
      },
      "execution_count": 7,
      "outputs": [
        {
          "output_type": "stream",
          "name": "stdout",
          "text": [
            "Enter Device name to add: Cooler\n",
            "Enter the energy usage of the Device (in kWh): 200\n",
            "Cooler added.\n"
          ]
        }
      ]
    },
    {
      "cell_type": "code",
      "source": [
        "# Update Existing Usage Data:\n",
        "\n",
        "existing_device = input(\"Enter name of device to update: \")\n",
        "\n",
        "if existing_device in energy_usage:\n",
        "    update_usage = int(input(\"Enter the updated Energy Usage: \"))\n",
        "    energy_usage[existing_device] = update_usage\n",
        "    print(existing_device, \"updated\")\n",
        "else:\n",
        "    print(\"Device not found.\")"
      ],
      "metadata": {
        "colab": {
          "base_uri": "https://localhost:8080/"
        },
        "id": "jql2vXp48ew6",
        "outputId": "e4e4d449-f8b4-4dbd-f90f-b7ca4925bb4b"
      },
      "execution_count": 8,
      "outputs": [
        {
          "output_type": "stream",
          "name": "stdout",
          "text": [
            "Enter name of device to update: AC\n",
            "Enter the updated Energy Usage: 1200\n",
            "AC updated\n"
          ]
        }
      ]
    },
    {
      "cell_type": "code",
      "source": [
        "# Remove a Device's Energy Usage:\n",
        "\n",
        "remove_usage = input(\"Enter a Device name to remove its usage: \")\n",
        "\n",
        "if remove_usage in energy_usage:\n",
        "    del energy_usage[remove_usage]\n",
        "    print(f\"{remove_usage} removed.\")\n",
        "else:\n",
        "    print(\"Device not found.\")"
      ],
      "metadata": {
        "colab": {
          "base_uri": "https://localhost:8080/"
        },
        "id": "SmxWNHWd8o1Z",
        "outputId": "cd30b621-7117-4b7a-eb11-35ffb4f2a752"
      },
      "execution_count": 9,
      "outputs": [
        {
          "output_type": "stream",
          "name": "stdout",
          "text": [
            "Enter a Device name to remove its usage: Cooler\n",
            "Cooler removed.\n"
          ]
        }
      ]
    },
    {
      "cell_type": "code",
      "source": [
        "# Display Total Energy Consumption:\n",
        "\n",
        "total_consumption = sum(energy_usage.values())\n",
        "print(f\"Total Energy Consumption of Smart Devices: {total_consumption}KWh\")"
      ],
      "metadata": {
        "colab": {
          "base_uri": "https://localhost:8080/"
        },
        "id": "tJWHpOTd8y4T",
        "outputId": "1a5c9c10-e3eb-41e1-b843-98131c6e364e"
      },
      "execution_count": 10,
      "outputs": [
        {
          "output_type": "stream",
          "name": "stdout",
          "text": [
            "Total Energy Consumption of Smart Devices: 1235KWh\n"
          ]
        }
      ]
    },
    {
      "cell_type": "markdown",
      "source": [
        "### **Task 2.2: Identify Unique Power-Saving Modes Using Sets:**"
      ],
      "metadata": {
        "id": "j3INguF-9Bln"
      }
    },
    {
      "cell_type": "code",
      "source": [
        "# Set of Unique Power Saving Modes:\n",
        "\n",
        "modes = {'Eco Mode', 'Night Mode'}\n",
        "print(\"Unique Power-Saving Modes:\", modes)"
      ],
      "metadata": {
        "colab": {
          "base_uri": "https://localhost:8080/"
        },
        "id": "kGrwGTn987Ms",
        "outputId": "dd97e5da-abd4-41c1-a9c7-e69bc8045d8d"
      },
      "execution_count": 11,
      "outputs": [
        {
          "output_type": "stream",
          "name": "stdout",
          "text": [
            "Unique Power-Saving Modes: {'Eco Mode', 'Night Mode'}\n"
          ]
        }
      ]
    },
    {
      "cell_type": "code",
      "source": [
        "# Add New Mode:\n",
        "\n",
        "new_mode = input(\"Enter new Power-Saving Mode to add: \")\n",
        "\n",
        "if new_mode in modes:\n",
        "    print(new_mode, \"already exists.\")\n",
        "else:\n",
        "    modes.add(new_mode)\n",
        "    print(\"New mode added:\", new_mode)"
      ],
      "metadata": {
        "colab": {
          "base_uri": "https://localhost:8080/"
        },
        "id": "k-5N8W8v9GCA",
        "outputId": "cc1cb480-7fe0-49c5-f1c5-fd574ac0c70f"
      },
      "execution_count": 12,
      "outputs": [
        {
          "output_type": "stream",
          "name": "stdout",
          "text": [
            "Enter new Power-Saving Mode to add: Away Mode\n",
            "New mode added: Away Mode\n"
          ]
        }
      ]
    },
    {
      "cell_type": "code",
      "source": [
        "# Check if a Mode is available:\n",
        "\n",
        "mode_to_check = input(\"Enter a Mode to check: \")\n",
        "\n",
        "if mode_to_check in modes:\n",
        "    print(f\"{mode_to_check} availale.\")\n",
        "else:\n",
        "    print(f\"{mode_to_check} not found.\")"
      ],
      "metadata": {
        "colab": {
          "base_uri": "https://localhost:8080/"
        },
        "id": "5n0itvLv9OYV",
        "outputId": "73ab52bf-ba3c-4e3d-ce22-156554718b00"
      },
      "execution_count": 13,
      "outputs": [
        {
          "output_type": "stream",
          "name": "stdout",
          "text": [
            "Enter a Mode to check: Night Mode\n",
            "Night Mode availale.\n"
          ]
        }
      ]
    },
    {
      "cell_type": "code",
      "source": [
        "# View all Power-Saving Modes:\n",
        "\n",
        "print(\"All Unique Power-Saving Modes:\", modes)"
      ],
      "metadata": {
        "colab": {
          "base_uri": "https://localhost:8080/"
        },
        "id": "U31JMD7O9UxD",
        "outputId": "a784114e-00b1-4c99-874e-a9605f10c310"
      },
      "execution_count": 14,
      "outputs": [
        {
          "output_type": "stream",
          "name": "stdout",
          "text": [
            "All Unique Power-Saving Modes: {'Eco Mode', 'Away Mode', 'Night Mode'}\n"
          ]
        }
      ]
    },
    {
      "cell_type": "markdown",
      "source": [
        "# **3. Functions for Smart Home Automation**\n",
        "\n",
        "### **3.1:  Function to Calculate Monthly Energy Cost:**"
      ],
      "metadata": {
        "id": "02pVQ8MO9eRf"
      }
    },
    {
      "cell_type": "code",
      "source": [
        "# Create Function:\n",
        "\n",
        "def calculate_energy_cost(energy_usage, rate_per_kwh):\n",
        "    cost = energy_usage * rate_per_kwh\n",
        "    return f\"Total Monthly Energy Cost: ${cost:.2f}\"\n",
        "\n",
        "# Input from User:\n",
        "usage = float(input(\"Enter Energy Usage (in KWh): \"))\n",
        "rate = float(input(\"Enter Rate per KWh (in $): \"))\n",
        "\n",
        "print(calculate_energy_cost(usage, rate))"
      ],
      "metadata": {
        "colab": {
          "base_uri": "https://localhost:8080/"
        },
        "id": "AGB9DRSI9Zvv",
        "outputId": "b9c8a597-20f0-405f-8a8f-7dea2283bad4"
      },
      "execution_count": 15,
      "outputs": [
        {
          "output_type": "stream",
          "name": "stdout",
          "text": [
            "Enter Energy Usage (in KWh): 1000\n",
            "Enter Rate per KWh (in $): 0.5\n",
            "Total Monthly Energy Cost: $500.00\n"
          ]
        }
      ]
    },
    {
      "cell_type": "markdown",
      "source": [
        "\n",
        "### **Task 3.2:  Function to Find Common Devices in Two Homes:**"
      ],
      "metadata": {
        "id": "YQFkcxN7-WyY"
      }
    },
    {
      "cell_type": "code",
      "source": [
        "# Create a Function:\n",
        "def find_common_devices(home1_devices, home2_devices):\n",
        "    # Normalize case and strip whitespace:\n",
        "    set1 = set(device.strip().lower() for device in home1_devices)\n",
        "    set2 = set(device.strip().lower() for device in home2_devices)\n",
        "    return set1 & set2\n",
        "\n",
        "# User Input:\n",
        "home1_input = input(\"Enter devices for Home 1 (comma-separated): \")\n",
        "home2_input = input(\"Enter devices for Home 2 (comma-separated): \")\n",
        "\n",
        "# Split into Lists:\n",
        "home1_list = home1_input.split(',')\n",
        "home2_list = home2_input.split(',')\n",
        "\n",
        "# Get Common Devices:\n",
        "common_devices = find_common_devices(home1_list, home2_list)\n",
        "\n",
        "# Show result:\n",
        "if common_devices:\n",
        "    print(\"Common Devices:\", {device.title() for device in common_devices})\n",
        "else:\n",
        "    print(\"No common devices found.\")"
      ],
      "metadata": {
        "colab": {
          "base_uri": "https://localhost:8080/"
        },
        "id": "vncfJNww-L1u",
        "outputId": "a1433a7f-9c06-48e2-e128-44a9daff487e"
      },
      "execution_count": 16,
      "outputs": [
        {
          "output_type": "stream",
          "name": "stdout",
          "text": [
            "Enter devices for Home 1 (comma-separated): Lights, Fan, AC, Thermostat\n",
            "Enter devices for Home 2 (comma-separated): Fan, Lights, Cooler, Camera\n",
            "Common Devices: {'Fan', 'Lights'}\n"
          ]
        }
      ]
    },
    {
      "cell_type": "markdown",
      "source": [
        "# **4. Automation Features (Advanced Functions)**\n",
        "\n",
        "### **Task 4.1: Create an Automation Rule Using Functions:**"
      ],
      "metadata": {
        "id": "3pRoJyYQ-juO"
      }
    },
    {
      "cell_type": "code",
      "source": [
        "# Create Function:\n",
        "def set_automation_rule(device, time, action):\n",
        "    return f\"Automation Rule: {device} will be turned {action} at {time}.\"\n",
        "\n",
        "# Take Inputs from User:\n",
        "device = input(\"Enter Device Name: \")\n",
        "time = input(\"Enter Time (e.g. 11:00 PM): \")\n",
        "action = input(\"Enter an Action (ON/OFF): \").upper()\n",
        "\n",
        "# Output:\n",
        "print(set_automation_rule(device, time, action))"
      ],
      "metadata": {
        "colab": {
          "base_uri": "https://localhost:8080/"
        },
        "id": "-7NHUNke-gU1",
        "outputId": "081bb736-75a4-48f6-cc3e-c65ea5bc78b3"
      },
      "execution_count": 17,
      "outputs": [
        {
          "output_type": "stream",
          "name": "stdout",
          "text": [
            "Enter Device Name: Lights\n",
            "Enter Time (e.g. 11:00 PM): 12:00 AM\n",
            "Enter an Action (ON/OFF): OFF\n",
            "Automation Rule: Lights will be turned OFF at 12:00 AM.\n"
          ]
        }
      ]
    },
    {
      "cell_type": "markdown",
      "source": [
        "### **Task 4.2:  Function to Optimize Power Consumption:**"
      ],
      "metadata": {
        "id": "u_Tgkwux-2V9"
      }
    },
    {
      "cell_type": "code",
      "source": [
        "# Create Function:\n",
        "def optimize_power(devices_list):\n",
        "    # Filter Devices consuming <= 1000W:\n",
        "    optimized = [name for name, power in devices_list if power <= 1000]\n",
        "    return optimized\n",
        "\n",
        "# User Input:\n",
        "count = int(input(\"How many devices do you want to enter? \"))\n",
        "device_list = []\n",
        "\n",
        "# Loop the User Input:\n",
        "for i in range(count):\n",
        "    name = input(\"\\nEnter device name: \")\n",
        "    power = int(input(f\"Enter power consumption of {name} in Watts: \"))\n",
        "    device_list.append((name, power))\n",
        "\n",
        "# Output:\n",
        "optimized_devices = optimize_power(device_list)\n",
        "print(\"\\nActive Devices After Optimization:\", optimized_devices)"
      ],
      "metadata": {
        "colab": {
          "base_uri": "https://localhost:8080/"
        },
        "id": "HTgm4aku-upF",
        "outputId": "ab40bb8a-c5fd-4bb7-b14c-1961d7ea50ae"
      },
      "execution_count": 19,
      "outputs": [
        {
          "output_type": "stream",
          "name": "stdout",
          "text": [
            "How many devices do you want to enter? 4\n",
            "\n",
            "Enter device name: Lights\n",
            "Enter power consumption of Lights in Watts: 60\n",
            "\n",
            "Enter device name: Fans\n",
            "Enter power consumption of Fans in Watts: 150\n",
            "\n",
            "Enter device name: AC\n",
            "Enter power consumption of AC in Watts: 1300\n",
            "\n",
            "Enter device name: Dryer\n",
            "Enter power consumption of Dryer in Watts: 600\n",
            "\n",
            "Active Devices After Optimization: ['Lights', 'Fans', 'Dryer']\n"
          ]
        }
      ]
    }
  ]
}